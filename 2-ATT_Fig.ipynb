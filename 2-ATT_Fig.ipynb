{
 "cells": [
  {
   "cell_type": "markdown",
   "metadata": {},
   "source": [
    "# Main figures in \"Top-down connection in hierarchical sparse coding\" for the ATT database\n",
    "https://arxiv.org/abs/2002.00892"
   ]
  },
  {
   "cell_type": "code",
   "execution_count": 1,
   "metadata": {},
   "outputs": [],
   "source": [
    "from SPC_2L.DataTools import DataBase, to_img, show\n",
    "import pickle\n",
    "from SPC_2L.Network import LayerPC, Network\n",
    "from SPC_2L.Coding import ML_FISTA, ML_Lasso\n",
    "import torch.nn.functional as f\n",
    "import matplotlib.pyplot as plt\n",
    "import numpy as np\n",
    "from torchvision.utils import make_grid\n",
    "import torch\n",
    "from torchvision.transforms import ToTensor,Compose\n",
    "from SPC_2L.DataTools import LCN, whitening, z_score, mask, to_cuda, norm\n",
    "from torch.utils.data import DataLoader"
   ]
  },
  {
   "cell_type": "markdown",
   "metadata": {},
   "source": [
    "## Tools, parameters and database"
   ]
  },
  {
   "cell_type": "code",
   "execution_count": 2,
   "metadata": {},
   "outputs": [],
   "source": [
    "def reconstruction(Net,gamma):\n",
    "    reco = [None] * (Net.nb_layers)\n",
    "    for i in range(Net.nb_layers-1,-1,-1):\n",
    "        reco[i] = gamma[i]\n",
    "        for j in range(i, -1, -1):\n",
    "            reco[i] = Net.layers[j].backward(reco[i])\n",
    "    return reco"
   ]
  },
  {
   "cell_type": "code",
   "execution_count": 3,
   "metadata": {},
   "outputs": [
    {
     "name": "stdout",
     "output_type": "stream",
     "text": [
      "warning: Not all batches have the same size, the last one will be dropped...\n"
     ]
    }
   ],
   "source": [
    "data_path = '../DataSet/Face_DataBase/Face_DataBase_testing'\n",
    "\n",
    "LCN_params = {'kernel_size':9,'sigma':0.5} # Local contrast normalization parameters\n",
    "\n",
    "mask_params={'n': 10} # mask parameters\n",
    "\n",
    "whitening_params={'f_0':0.5,'n':2} # Whitening parameters\n",
    "\n",
    "Data_load_param = { 'batch_size': 20,\n",
    "                    'gray_scale': True,\n",
    "                    'do_LCN': True,\n",
    "                    'LCN_params': LCN_params,\n",
    "                    'do_mask': True,\n",
    "                    'mask_params': mask_params,\n",
    "                    'do_whitening': True,\n",
    "                    'whitening_params': whitening_params,\n",
    "                    'do_z_score': True,\n",
    "                    'return_idx': False\n",
    "                  }\n",
    "\n",
    "Facedata = DataBase('from_ImageFolder', data_path, img_size=(112,92),**Data_load_param, shuffle=True)\n",
    "\n",
    "save = False #### Use to re-run the entire simulation : TAKE HOURS. Use False to load previous simulation\n",
    "\n",
    "range_b = [0,1] ## b=0 --> HiLa, b=1 --> 2L_SPC\n",
    "range_lbda1 = [0.3 + i*0.1 for i in range(5)] ## range of tested lbda1\n",
    "range_lbda2 = [0.6 + i*0.2 for i in range(6)] ## range of tested lbda2\n",
    "\n",
    "model_name_list_l1_b0 = ['ATT_[{0:0.1f},1.0]_b={1:0.0f}'.format(lbda1,0) for lbda1 in range_lbda1]\n",
    "model_name_list_l2_b0 = ['ATT_[0.5,{0:0.1f}]_b={1:0.0f}'.format(lbda2,0) for lbda2 in range_lbda2]\n",
    "\n",
    "model_name_list_l1_b1 = ['ATT_[{0:0.1f},1.0]_b={1:0.0f}'.format(lbda1,1) for lbda1 in range_lbda1]\n",
    "model_name_list_l2_b1 = ['ATT_[0.5,{0:0.1f}]_b={1:0.0f}'.format(lbda2,1) for lbda2 in range_lbda2]\n",
    "\n",
    "\n",
    "cmap1=plt.get_cmap('tab20c')\n",
    "cmap2=plt.get_cmap('tab20b')"
   ]
  },
  {
   "cell_type": "markdown",
   "metadata": {},
   "source": [
    "## Save == True: Wrapping all  the exploration space in one file"
   ]
  },
  {
   "cell_type": "code",
   "execution_count": null,
   "metadata": {},
   "outputs": [],
   "source": []
  },
  {
   "cell_type": "code",
   "execution_count": 4,
   "metadata": {},
   "outputs": [],
   "source": [
    "exp_list = {'ATT_lbda1' : (model_name_list_l1_b0, model_name_list_l1_b1),\n",
    "          'ATT_lbda2' : (model_name_list_l2_b0, model_name_list_l2_b1)\n",
    "         }\n",
    "\n",
    "if save == True : \n",
    "    for exp_idx, exp_name in enumerate(exp_list.keys()):\n",
    "        file_to_save = 'Savings/ATT/' + str(exp_name) + '.pkl'\n",
    "        \n",
    "        Layer_wise_loss_SDPC = np.zeros((len(range_b),len(exp_list[exp_name][0]), 2))\n",
    "        it_SDPC = np.zeros((len(range_b),len(exp_list[exp_name][0])))\n",
    "        all_L2_loss = np.zeros((len(range_b),len(exp_list[exp_name][0]), 2))\n",
    "        all_L1_loss = np.zeros((len(range_b),len(exp_list[exp_name][0]), 2))\n",
    "        \n",
    "        print(exp_list[exp_name])\n",
    "        for idx_b, b in enumerate(range_b):\n",
    "        \n",
    "            for idx_model, model_name in enumerate(exp_list[exp_name][idx_b]):\n",
    "                print(model_name)\n",
    "                path = 'Savings/ATT/' + model_name +'.pkl'\n",
    "\n",
    "                with open(path, 'rb') as file:\n",
    "                    out = pickle.load(file)\n",
    "                Net = out['Net']\n",
    "                Loss = out['Loss']\n",
    "                Pursuit = out['Pursuit'] \n",
    "                all_error = [0] * (Net.nb_layers)\n",
    "                all_it = 0\n",
    "                all_Loss = [0] * (Net.nb_layers)\n",
    "                penalty = [None] * (Net.nb_layers)\n",
    "                all_penalty = [0] * (Net.nb_layers)\n",
    "                for idx_batch, data in enumerate(Facedata.data):\n",
    "                    batch = data[0].cuda()\n",
    "                    if idx_batch>20:\n",
    "                        break\n",
    "                    gamma, it, Loss_G, delta = Pursuit.coding(batch)\n",
    "                    reco = reconstruction(Net,gamma)\n",
    "                    error = [(((data[0].cuda() - reco[i]).pow(2).sum())/(data[0].cuda().pow(2).sum())) for i in range(Net.nb_layers)]\n",
    "                    for i in range(Net.nb_layers):\n",
    "                        all_Loss[i] += Loss.F(batch,gamma,i, do_feedback=False).div(batch.size()[0])\n",
    "\n",
    "                    penalty = [Loss.lambdas[i]*gamma[i].abs().sum() for i in range(Net.nb_layers)]\n",
    "\n",
    "                    for i in range(Net.nb_layers):\n",
    "                        all_error [i] += error[i]\n",
    "                    for i in range(Net.nb_layers):\n",
    "                        all_penalty[i] += penalty[i]\n",
    "                    all_it += it        \n",
    "\n",
    "                for i in range(Net.nb_layers):\n",
    "                    all_error[i] /= ((idx_batch+1)*batch.size(0))\n",
    "                for i in range(Net.nb_layers):\n",
    "                    all_Loss[i] /= ((idx_batch+1))    \n",
    "                for i in range(Net.nb_layers):\n",
    "                    all_penalty[i] /= ((idx_batch+1)*batch.size(0))    \n",
    "                all_it /= (idx_batch+1)\n",
    "                tot_loss = 0\n",
    "                for i in range(Net.nb_layers):\n",
    "                    tot_loss += all_Loss[i]+all_penalty[i]\n",
    "                    Layer_wise_loss_SDPC[idx_b, idx_model,i]=all_Loss[i]+all_penalty[i]\n",
    "                    all_L2_loss[idx_b, idx_model,i] = all_Loss[i]\n",
    "                    all_L1_loss[idx_b, idx_model, i] = all_penalty[i]\n",
    "                it_SDPC[idx_b, idx_model] = all_it \n",
    "            res_SDPC = {'loss': Layer_wise_loss_SDPC,\n",
    "                      'it': it_SDPC,\n",
    "                        'L2_loss':all_L2_loss,\n",
    "                        'L1_loss':all_L1_loss}\n",
    "            with open(file_to_save, 'wb') as file:\n",
    "                pickle.dump(res_SDPC, file, pickle.HIGHEST_PROTOCOL)\n",
    "        else : \n",
    "            with open(file_to_save, 'rb') as file:\n",
    "                res_SDPC = pickle.load(file)\n",
    "\n"
   ]
  },
  {
   "cell_type": "markdown",
   "metadata": {},
   "source": [
    "## Fig 2"
   ]
  },
  {
   "cell_type": "code",
   "execution_count": 5,
   "metadata": {},
   "outputs": [],
   "source": [
    "with open('Savings/ATT/ATT_lbda1.pkl', 'rb') as file:\n",
    "        res_exp_lbda1 = pickle.load(file)\n",
    "        \n",
    "with open('Savings/ATT/ATT_lbda2.pkl', 'rb') as file:\n",
    "        res_exp_lbda2 = pickle.load(file)"
   ]
  },
  {
   "cell_type": "code",
   "execution_count": 6,
   "metadata": {},
   "outputs": [
    {
     "data": {
      "image/png": "[encoded data removed]",
      "text/plain": [
       "<Figure size 432x288 with 1 Axes>"
      ]
     },
     "metadata": {},
     "output_type": "display_data"
    },
    {
     "data": {
      "image/png": "[encoded data removed]",
      "text/plain": [
       "<Figure size 432x288 with 1 Axes>"
      ]
     },
     "metadata": {},
     "output_type": "display_data"
    }
   ],
   "source": [
    "save_fig = True\n",
    "\n",
    "width = 0.75 \n",
    "fontsize = 20\n",
    "## Plotting reconsctruction error when increasing lbda1\n",
    "N = res_exp_lbda1['loss'].shape[1]\n",
    "position_SDPC = [2 + 3*i for i in range(N)] \n",
    "position_HiLa = [1 + 3*i for i in range(N)] \n",
    "SPDC_l2norm_L1_lbda1 = res_exp_lbda1['L2_loss'][1,:,0]\n",
    "SPDC_l2norm_L2_lbda1 = res_exp_lbda1['L2_loss'][1,:,1]\n",
    "SPDC_l1norm_L1_lbda1 = res_exp_lbda1['L1_loss'][1,:,0]\n",
    "SPDC_l1norm_L2_lbda1 = res_exp_lbda1['L1_loss'][1,:,1]\n",
    "\n",
    "HiLa_l2norm_L1_lbda1 = res_exp_lbda1['L2_loss'][0,:,0]\n",
    "HiLa_l2norm_L2_lbda1 = res_exp_lbda1['L2_loss'][0,:,1]\n",
    "HiLa_l1norm_L1_lbda1 = res_exp_lbda1['L1_loss'][0,:,0]\n",
    "HiLa_l1norm_L2_lbda1 = res_exp_lbda1['L1_loss'][0,:,1]\n",
    "\n",
    "\n",
    "fig = plt.figure()\n",
    "p_SDPC__l2norm_L1 = plt.bar(position_SDPC, SPDC_l2norm_L1_lbda1,\n",
    "                    width, color=cmap1(1))#, edgecolor=cmap2(0))\n",
    "p_SDPC_l2norm_L2 = plt.bar(position_SDPC, SPDC_l2norm_L2_lbda1,\n",
    "                    width, color=cmap1(3),bottom= SPDC_l2norm_L1_lbda1)#, edgecolor=cmap2(0),\n",
    "                   \n",
    "p_SDPC_l1norm_L1= plt.bar(position_SDPC, SPDC_l1norm_L1_lbda1,\n",
    "                    width, bottom=SPDC_l2norm_L2_lbda1+SPDC_l2norm_L1_lbda1,color='white'\n",
    "                           ,edgecolor=cmap1(1), hatch='///')#, color=cmap1(3), edgecolor=cmap2(0),\n",
    "\n",
    "p_SDPC_l1norm_L2 = plt.bar(position_SDPC, SPDC_l1norm_L2_lbda1,\n",
    "                    width, bottom=SPDC_l2norm_L2_lbda1+SPDC_l2norm_L1_lbda1+SPDC_l1norm_L1_lbda1,\n",
    "                           color='white',edgecolor=cmap1(3), hatch='///')#, color=cmap1(3), edgecolor=cmap2(0),\n",
    "\n",
    "\n",
    "p_edges_SDPC = plt.bar(position_SDPC, SPDC_l2norm_L1_lbda1+SPDC_l2norm_L2_lbda1+SPDC_l1norm_L2_lbda1+SPDC_l1norm_L1_lbda1,\n",
    "                    width,color='none',edgecolor='black')\n",
    "\n",
    "p_HiLa_l2norm_L1 = plt.bar(position_HiLa, HiLa_l2norm_L1_lbda1, width ,color=cmap2(5))\n",
    "p_HiLa_l2norm_L2 = plt.bar(position_HiLa, HiLa_l2norm_L2_lbda1, width, color=cmap2(7),\n",
    "                   bottom=HiLa_l2norm_L1_lbda1)\n",
    "p_HiLa_l1norm_L1 = plt.bar(position_HiLa, HiLa_l1norm_L1_lbda1, width, color='white',\n",
    "                   bottom=HiLa_l2norm_L1_lbda1+HiLa_l2norm_L2_lbda1, edgecolor=cmap2(5),\n",
    "                    hatch='///')\n",
    "p_HiLa_l1norm_L2 = plt.bar(position_HiLa, HiLa_l1norm_L2_lbda1, width, color='white',\n",
    "                   bottom=HiLa_l2norm_L1_lbda1+HiLa_l2norm_L2_lbda1+HiLa_l1norm_L1_lbda1,\n",
    "                    edgecolor=cmap2(7), hatch='///')\n",
    "\n",
    "p_edges_HiLa = plt.bar(position_HiLa, HiLa_l2norm_L1_lbda1+HiLa_l2norm_L2_lbda1+HiLa_l1norm_L2_lbda1+HiLa_l1norm_L1_lbda1,\n",
    "                    width,color='none',edgecolor='black')\n",
    "\n",
    "\n",
    "plt.ylabel('Cost', fontsize=fontsize, labelpad=10)\n",
    "plt.title('AT&T', fontsize=fontsize)\n",
    "#plt.title('Evolution Layer-wise loss in SDPC and Hi-La network \\n when varying the second layer sparsity')\n",
    "xticks_position = [1.5 +3*i for i in range(N)]\n",
    "plt.xlabel(r\"$\\lambda_{1}$\", fontsize=fontsize, labelpad=10)\n",
    "plt.yticks([0,500,1000,1500,2000],fontsize=fontsize)\n",
    "plt.xticks(xticks_position,['{0:0.1f}'.format(lbda1) for lbda1 in range_lbda1]\n",
    "           , fontsize=fontsize)\n",
    "if save_fig:\n",
    "    plt.savefig('Savings/Fig/Fig2/ATT_lbda1.pdf', bbox_inches = 'tight', pad_inches = 0.1, format='pdf')\n",
    "    \n",
    "plt.show()\n",
    "\n",
    "\n",
    "## Plotting reconsctruction error when increasing lbda2\n",
    "\n",
    "fig = plt.figure()\n",
    "\n",
    "N = res_exp_lbda2['loss'].shape[1]\n",
    "position_SDPC = [2 + 3*i for i in range(N)] \n",
    "position_HiLa = [1 + 3*i for i in range(N)] \n",
    "\n",
    "SPDC_l2norm_L1_lbda2 = res_exp_lbda2['L2_loss'][1,:,0]\n",
    "SPDC_l2norm_L2_lbda2 = res_exp_lbda2['L2_loss'][1,:,1]\n",
    "SPDC_l1norm_L1_lbda2 = res_exp_lbda2['L1_loss'][1,:,0]\n",
    "SPDC_l1norm_L2_lbda2 = res_exp_lbda2['L1_loss'][1,:,1]\n",
    "\n",
    "HiLa_l2norm_L1_lbda2 = res_exp_lbda2['L2_loss'][0,:,0]\n",
    "HiLa_l2norm_L2_lbda2 = res_exp_lbda2['L2_loss'][0,:,1]\n",
    "HiLa_l1norm_L1_lbda2 = res_exp_lbda2['L1_loss'][0,:,0]\n",
    "HiLa_l1norm_L2_lbda2 = res_exp_lbda2['L1_loss'][0,:,1]\n",
    "\n",
    "\n",
    "p_SDPC__l2norm_L1 = plt.bar(position_SDPC, SPDC_l2norm_L1_lbda2,\n",
    "                    width, color=cmap1(1))#, edgecolor=cmap2(0))\n",
    "p_SDPC_l2norm_L2 = plt.bar(position_SDPC, SPDC_l2norm_L2_lbda2,\n",
    "                    width, color=cmap1(3),bottom= SPDC_l2norm_L1_lbda2)#, edgecolor=cmap2(0),\n",
    "                   \n",
    "p_SDPC_l1norm_L1= plt.bar(position_SDPC, SPDC_l1norm_L1_lbda2,\n",
    "                    width, bottom=SPDC_l2norm_L2_lbda2+SPDC_l2norm_L1_lbda2,color='white'\n",
    "                           ,edgecolor=cmap1(1), hatch='///')#, color=cmap1(3), edgecolor=cmap2(0),\n",
    "                   #bottom= SPDC_L1_lbda2)\n",
    "\n",
    "p_SDPC_l1norm_L2 = plt.bar(position_SDPC, SPDC_l1norm_L2_lbda2,\n",
    "                    width, bottom=SPDC_l2norm_L2_lbda2+SPDC_l2norm_L1_lbda2+SPDC_l1norm_L1_lbda2,\n",
    "                           color='white',edgecolor=cmap1(3), hatch='///')#, color=cmap1(3), edgecolor=cmap2(0),\n",
    "                #bottom= SPDC_L1_lbda2)\n",
    "#plt.hist(gaussian_numbers, edgecolor='black', linewidth=1.2)\n",
    "\n",
    "p_edges_SDPC = plt.bar(position_SDPC, SPDC_l2norm_L1_lbda2+SPDC_l2norm_L2_lbda2+SPDC_l1norm_L2_lbda2+SPDC_l1norm_L1_lbda2,\n",
    "                    width,color='none',edgecolor='black')\n",
    "\n",
    "p_HiLa_l2norm_L1 = plt.bar(position_HiLa, HiLa_l2norm_L1_lbda2, width ,color=cmap2(5))\n",
    "p_HiLa_l2norm_L2 = plt.bar(position_HiLa, HiLa_l2norm_L2_lbda2, width, color=cmap2(7),\n",
    "                   bottom=HiLa_l2norm_L1_lbda2)\n",
    "p_HiLa_l1norm_L1 = plt.bar(position_HiLa, HiLa_l1norm_L1_lbda2, width, color='white',\n",
    "                   bottom=HiLa_l2norm_L1_lbda2+HiLa_l2norm_L2_lbda2, edgecolor=cmap2(5),\n",
    "                    hatch='///')\n",
    "p_HiLa_l1norm_L2 = plt.bar(position_HiLa, HiLa_l1norm_L2_lbda2, width, color='white',\n",
    "                   bottom=HiLa_l2norm_L1_lbda2+HiLa_l2norm_L2_lbda2+HiLa_l1norm_L1_lbda2,\n",
    "                    edgecolor=cmap2(7), hatch='///')\n",
    "\n",
    "p_edges_HiLa = plt.bar(position_HiLa, HiLa_l2norm_L1_lbda2+HiLa_l2norm_L2_lbda2+HiLa_l1norm_L2_lbda2+HiLa_l1norm_L1_lbda2,\n",
    "                    width,color='none',edgecolor='black')\n",
    "\n",
    "\n",
    "plt.ylabel('Cost', fontsize=fontsize, labelpad=10)\n",
    "plt.title('AT&T', fontsize=fontsize)\n",
    "#plt.title('Evolution Layer-wise loss in SDPC and Hi-La network \\n when varying the second layer sparsity')\n",
    "xticks_position = [1.5 +3*i for i in range(N)]\n",
    "plt.xlabel(r\"$\\lambda_{2}$\", fontsize=fontsize, labelpad=10)\n",
    "plt.yticks([0,500,1000,1500,2000],fontsize=fontsize)\n",
    "plt.xticks(xticks_position,['{0:0.1f}'.format(lbda2) for lbda2 in range_lbda2] \n",
    "           , fontsize=fontsize)\n",
    "\n",
    "\n",
    "\n",
    "#plt.legend((p_SDPC_L0, p_SDPC_L1, p_HiLa_L0, p_HiLa_L1), \n",
    "#          ('Layer0 SDPC', 'Layer1 SDPC','Layer0 HiLa', 'Layer1 HiLa'),\n",
    "#          ncol=1, bbox_to_anchor=(1, 0.5), loc='center left')\n",
    "    \n",
    "\n",
    "if save_fig:\n",
    "    plt.savefig('Savings/Fig/Fig2/ATT_lbda2.pdf', bbox_inches = 'tight', pad_inches = 0.1, format='pdf')\n",
    "plt.show()"
   ]
  },
  {
   "cell_type": "code",
   "execution_count": 15,
   "metadata": {},
   "outputs": [
    {
     "name": "stdout",
     "output_type": "stream",
     "text": [
      "QUADRATIC COST\n",
      "1st layer SDPC/HiLa (average) : 73.22814783875569 %\n",
      "2nd layer SDPC/HiLa (average) : -44.464184215753455 %\n",
      "First Layer HiLa high_lbda_1 / low_lbda_1 : 260.18 %\n",
      "First Layer SDPC high_lbda_1 / low_lbda_1 : 148.28 %\n",
      "SPARSITY COST\n",
      "First Layer HiLa high_lbda_1 / low_lbda_1 : 59.32 %\n",
      "First Layer SDPC high_lbda_1 / low_lbda_1 : 47.36 %\n",
      "QUADRATIC COST\n",
      "First Layer HiLa high_lbda_2 / low_lbda_2 : -0.17 %\n",
      "First Layer SDPC high_lbda_2 / low_lbda_2 : 8.09 %\n"
     ]
    },
    {
     "data": {
      "text/plain": [
       "\"\\n\\nprint('SPARSITY COST')\\n\\nSPDC_l1norm_L1_lbda2 = res_exp_lbda2['L2_loss'][1,:,0]\\nHiLa_l1norm_L1_lbda2 = res_exp_lbda2['L2_loss'][0,:,0]\\nSPDC_l1norm_L2_lbda2 = res_exp_lbda2['L2_loss'][1,:,1]\\nHiLa_l1norm_L2_lbda2 = res_exp_lbda2['L2_loss'][0,:,1]\\n\\nvar = ((HiLa_l1norm_L1_lbda2[-1]/HiLa_l1norm_L1_lbda2[0]) - 1)\\nprint('First Layer HiLa high_lbda_1 / low_lbda_1 : {0:0.2f} %'.format(var*100))\\n\\nvar = ((SPDC_l1norm_L1_lbda2[-1]/SPDC_l1norm_L1_lbda2[0]) - 1)\\nprint('First Layer SDPC high_lbda_1 / low_lbda_1 : {0:0.2f} %'.format(var*100))\\n\\nvar = ((HiLa_l1norm_L2_lbda2[-1]/HiLa_l1norm_L2_lbda2[0]) - 1)\\nprint('Second Layer HiLa high_lbda_1 / low_lbda_1 : {0:0.2f} %'.format(var*100))\\n\\nvar = ((SPDC_l1norm_L2_lbda2[-1]/SPDC_l1norm_L2_lbda2[0]) - 1)\\nprint('Second Layer SDPC high_lbda_1 / low_lbda_1 : {0:0.2f} %'.format(var*100))\\n\""
      ]
     },
     "execution_count": 15,
     "metadata": {},
     "output_type": "execute_result"
    }
   ],
   "source": [
    "## Compute variation \n",
    "\n",
    "SPDC_l2norm_L1_lbda1 = res_exp_lbda1['L2_loss'][1,:,0]\n",
    "HiLa_l2norm_L1_lbda1 = res_exp_lbda1['L2_loss'][0,:,0]\n",
    "SPDC_l2norm_L2_lbda1 = res_exp_lbda1['L2_loss'][1,:,1]\n",
    "HiLa_l2norm_L2_lbda1 = res_exp_lbda1['L2_loss'][0,:,1]\n",
    "\n",
    "print('QUADRATIC COST')\n",
    "var = ((SPDC_l2norm_L1_lbda1/HiLa_l2norm_L1_lbda1) - 1).mean()\n",
    "print('1st layer SDPC/HiLa (average) : {0:2} %'.format(var*100))\n",
    "\n",
    "var = ((SPDC_l2norm_L2_lbda1/HiLa_l2norm_L2_lbda1) - 1).mean()\n",
    "print('2nd layer SDPC/HiLa (average) : {0:2} %'.format(var*100))\n",
    "\n",
    "var = ((HiLa_l2norm_L1_lbda1[-1]/HiLa_l2norm_L1_lbda1[0]) - 1)\n",
    "print('First Layer HiLa high_lbda_1 / low_lbda_1 : {0:0.2f} %'.format(var*100))\n",
    "\n",
    "var = ((SPDC_l2norm_L1_lbda1[-1]/SPDC_l2norm_L1_lbda1[0]) - 1)\n",
    "print('First Layer SDPC high_lbda_1 / low_lbda_1 : {0:0.2f} %'.format(var*100))\n",
    "\n",
    "\n",
    "print('SPARSITY COST')\n",
    "\n",
    "SPDC_l1norm_L1_lbda1 = res_exp_lbda1['L1_loss'][1,:,0]\n",
    "HiLa_l1norm_L1_lbda1 = res_exp_lbda1['L1_loss'][0,:,0]\n",
    "SPDC_l1norm_L2_lbda1 = res_exp_lbda1['L1_loss'][1,:,1]\n",
    "HiLa_l1norm_L2_lbda1 = res_exp_lbda1['L1_loss'][0,:,1]\n",
    "\n",
    "var = ((HiLa_l1norm_L1_lbda1[-1]/HiLa_l1norm_L1_lbda1[0]) - 1)\n",
    "print('First Layer HiLa high_lbda_1 / low_lbda_1 : {0:0.2f} %'.format(var*100))\n",
    "\n",
    "var = ((SPDC_l1norm_L1_lbda1[-1]/SPDC_l1norm_L1_lbda1[0]) - 1)\n",
    "print('First Layer SDPC high_lbda_1 / low_lbda_1 : {0:0.2f} %'.format(var*100))\n",
    "\n",
    "\n",
    "print('QUADRATIC COST')\n",
    "\n",
    "SPDC_l1norm_L1_lbda2 = res_exp_lbda2['L2_loss'][1,:,0]\n",
    "HiLa_l1norm_L1_lbda2 = res_exp_lbda2['L2_loss'][0,:,0]\n",
    "SPDC_l1norm_L2_lbda2 = res_exp_lbda2['L2_loss'][1,:,1]\n",
    "HiLa_l1norm_L2_lbda2 = res_exp_lbda2['L2_loss'][0,:,1]\n",
    "\n",
    "var = ((HiLa_l1norm_L1_lbda2[-1]/HiLa_l1norm_L1_lbda2[0]) - 1)\n",
    "print('First Layer HiLa high_lbda_2 / low_lbda_2 : {0:0.2f} %'.format(var*100))\n",
    "\n",
    "var = ((SPDC_l1norm_L1_lbda2[-1]/SPDC_l1norm_L1_lbda2[0]) - 1)\n",
    "print('First Layer SDPC high_lbda_2 / low_lbda_2 : {0:0.2f} %'.format(var*100))\n",
    "\n",
    "'''\n",
    "\n",
    "print('SPARSITY COST')\n",
    "\n",
    "SPDC_l1norm_L1_lbda2 = res_exp_lbda2['L2_loss'][1,:,0]\n",
    "HiLa_l1norm_L1_lbda2 = res_exp_lbda2['L2_loss'][0,:,0]\n",
    "SPDC_l1norm_L2_lbda2 = res_exp_lbda2['L2_loss'][1,:,1]\n",
    "HiLa_l1norm_L2_lbda2 = res_exp_lbda2['L2_loss'][0,:,1]\n",
    "\n",
    "var = ((HiLa_l1norm_L1_lbda2[-1]/HiLa_l1norm_L1_lbda2[0]) - 1)\n",
    "print('First Layer HiLa high_lbda_1 / low_lbda_1 : {0:0.2f} %'.format(var*100))\n",
    "\n",
    "var = ((SPDC_l1norm_L1_lbda2[-1]/SPDC_l1norm_L1_lbda2[0]) - 1)\n",
    "print('First Layer SDPC high_lbda_1 / low_lbda_1 : {0:0.2f} %'.format(var*100))\n",
    "\n",
    "var = ((HiLa_l1norm_L2_lbda2[-1]/HiLa_l1norm_L2_lbda2[0]) - 1)\n",
    "print('Second Layer HiLa high_lbda_1 / low_lbda_1 : {0:0.2f} %'.format(var*100))\n",
    "\n",
    "var = ((SPDC_l1norm_L2_lbda2[-1]/SPDC_l1norm_L2_lbda2[0]) - 1)\n",
    "print('Second Layer SDPC high_lbda_1 / low_lbda_1 : {0:0.2f} %'.format(var*100))\n",
    "'''"
   ]
  },
  {
   "cell_type": "markdown",
   "metadata": {},
   "source": [
    "## Fig 4"
   ]
  },
  {
   "cell_type": "code",
   "execution_count": 7,
   "metadata": {},
   "outputs": [
    {
     "data": {
      "image/png": "[encoded data removed]",
      "text/plain": [
       "<Figure size 432x288 with 1 Axes>"
      ]
     },
     "metadata": {},
     "output_type": "display_data"
    },
    {
     "data": {
      "image/png": "[encoded data removed]",
      "text/plain": [
       "<Figure size 432x288 with 1 Axes>"
      ]
     },
     "metadata": {},
     "output_type": "display_data"
    }
   ],
   "source": [
    "## Plotting the curve\n",
    "save_fig =  False\n",
    "\n",
    "med_lbda1_SDPC = res_exp_lbda1['it'][1,:]\n",
    "med_lbda1_HiLa = res_exp_lbda1['it'][0,:]\n",
    "\n",
    "out = plt.plot(range_lbda1, med_lbda1_SDPC, label='SDPC', color=cmap1(1), linewidth=3)\n",
    "out = plt.plot(range_lbda1, med_lbda1_HiLa, label='Hi-La', color=cmap2(5), linewidth=3)\n",
    "plt.xticks(range_lbda1,fontsize=15)\n",
    "plt.yticks([15,45,75,105,140], fontsize=15)\n",
    "\n",
    "plt.tick_params(axis='both', which='major', pad=5)\n",
    "plt.title('AT&T', fontsize=15)\n",
    "out = plt.xlabel(r\"$\\lambda_{1}$\", fontsize=15, labelpad=10)\n",
    "out = plt.ylabel(\"number of iterations\", fontsize=15, labelpad=10)\n",
    "\n",
    "if save_fig:\n",
    "\n",
    "    plt.savefig('Figure/ATT_nbit_lbda1.png', bbox_inches = 'tight', pad_inches = 0.1, dpi=400)\n",
    "\n",
    "\n",
    "plt.show()\n",
    "\n",
    "\n",
    "med_lbda2_SDPC = res_exp_lbda2['it'][1,:]\n",
    "med_lbda2_HiLa = res_exp_lbda2['it'][0,:]\n",
    "\n",
    "out = plt.plot(range_lbda2, med_lbda2_SDPC, label='SDPC', color=cmap1(1), linewidth=3)\n",
    "out = plt.plot(range_lbda2, med_lbda2_HiLa, label='Hi-La', color=cmap2(5), linewidth=3)\n",
    "plt.xticks(range_lbda2,fontsize=15)\n",
    "plt.yticks([15,45,75,105,140], fontsize=15)\n",
    "\n",
    "plt.tick_params(axis='both', which='major', pad=5)\n",
    "plt.title('AT&T', fontsize=15)\n",
    "out = plt.xlabel(r\"$\\lambda_{2}$\", fontsize=15, labelpad=10)\n",
    "out = plt.ylabel(\"number of iterations\", fontsize=15, labelpad=10)\n",
    "\n",
    "if save_fig:\n",
    "\n",
    "    plt.savefig('Figure/ATT_nbit_lbda2png', bbox_inches = 'tight', pad_inches = 0.1, dpi=400)\n",
    "\n",
    "plt.show()\n",
    "\n",
    "\n",
    "\n"
   ]
  },
  {
   "cell_type": "markdown",
   "metadata": {},
   "source": [
    "## Fig 6"
   ]
  },
  {
   "cell_type": "code",
   "execution_count": 11,
   "metadata": {},
   "outputs": [],
   "source": [
    "path = 'Savings/ATT/ATT_[0.5,1.0]_b=0.pkl'\n",
    "with open(path, 'rb') as file:\n",
    "    res_Hila = pickle.load(file)\n",
    "\n",
    "path = 'Savings/ATT/ATT_[0.5,1.0]_b=1.pkl'\n",
    "with open(path, 'rb') as file:\n",
    "    res_SDPC = pickle.load(file)"
   ]
  },
  {
   "cell_type": "code",
   "execution_count": 14,
   "metadata": {},
   "outputs": [
    {
     "data": {
      "image/png": "[encoded data removed]",
      "text/plain": [
       "<Figure size 432x288 with 1 Axes>"
      ]
     },
     "metadata": {},
     "output_type": "display_data"
    }
   ],
   "source": [
    "save_fig = False\n",
    "fig1, ax1 = plt.subplots()\n",
    "\n",
    "x  = np.arange(10,2500,20)\n",
    "idx = np.arange(10,25000,200)\n",
    "\n",
    "reco_Hila = res_Hila['l2_loss'][0] + 0.5*res_Hila['l1_loss'][0] + \\\n",
    "            res_Hila['l2_loss'][1] + 1.0*res_Hila['l1_loss'][1]\n",
    "reco_SDPC = res_SDPC['l2_loss'][0] + 0.5*res_SDPC['l1_loss'][0] + \\\n",
    "            res_SDPC['l2_loss'][1] + 1.0*res_SDPC['l1_loss'][1]\n",
    "\n",
    "#out = ax1.plot(reco_SDPC[idx].detach().numpy(), label = '2L_SPC', color=cmap1(1), linewidth=3)\n",
    "#out = ax1.plot(reco_Hila[idx].detach().numpy(), label='Hi-La', color=cmap2(5), linewidth=3)\n",
    "out = ax1.plot(reco_Hila.detach().numpy(), label='Hi-La', color=cmap2(5), linewidth=3)\n",
    "\n",
    "ax1.set_title('AT&T', fontsize=15)\n",
    "ax1.set_xticks([0,200,400,600,800,1000])\n",
    "ax1.set_xticklabels([0,200,400,600,800,1000],fontsize=15)\n",
    "ax1.set_yscale('log')\n",
    "ax1.set_xscale('log')\n",
    "ax1.set_yticks([2000,5000,10000,40000])\n",
    "ax1.set_yticklabels([r'$2\\times10^3$',r'$5\\times10^3$',r'$1\\times10^4$', r'$4\\times10^4$'],fontsize=15)\n",
    "\n",
    "out = ax1.set_xlabel(\"number of epochs\", fontsize=15, labelpad=10)\n",
    "out = ax1.set_ylabel(\"total cost\", fontsize=15, labelpad=10)\n",
    "\n",
    "if save_fig :\n",
    "    plt.savefig('Figure/ATT_Loss_training.png', bbox_inches = 'tight', pad_inches = 0.1, dpi=400)"
   ]
  },
  {
   "cell_type": "code",
   "execution_count": null,
   "metadata": {},
   "outputs": [],
   "source": []
  }
 ],
 "metadata": {
  "kernelspec": {
   "display_name": "Python 3",
   "language": "python",
   "name": "python3"
  },
  "language_info": {
   "codemirror_mode": {
    "name": "ipython",
    "version": 3
   },
   "file_extension": ".py",
   "mimetype": "text/x-python",
   "name": "python",
   "nbconvert_exporter": "python",
   "pygments_lexer": "ipython3",
   "version": "3.5.2"
  }
 },
 "nbformat": 4,
 "nbformat_minor": 2
}
