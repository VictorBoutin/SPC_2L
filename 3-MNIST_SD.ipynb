{
 "cells": [
  {
   "cell_type": "markdown",
   "metadata": {},
   "source": [
    "# Additional figures of \"Top-down connection in hierarchical sparse coding\" for the MNIST database\n",
    "https://arxiv.org/abs/2002.00892"
   ]
  },
  {
   "cell_type": "code",
   "execution_count": 1,
   "metadata": {},
   "outputs": [],
   "source": [
    "from SPC_2L.DataTools import DataBase, to_img, show\n",
    "import pickle\n",
    "from SPC_2L.Network import LayerPC, Network\n",
    "from SPC_2L.Coding import ML_FISTA, ML_Lasso\n",
    "import torch.nn.functional as f\n",
    "import matplotlib.pyplot as plt\n",
    "import numpy as np\n",
    "from torchvision.utils import make_grid, save_image\n",
    "import torch\n",
    "from torchvision.transforms import ToTensor,Compose\n",
    "from SPC_2L.DataTools import LCN, whitening, z_score, mask, to_cuda, norm\n",
    "from torchvision.datasets import MNIST\n",
    "from torch.utils.data import DataLoader"
   ]
  },
  {
   "cell_type": "markdown",
   "metadata": {},
   "source": [
    "## Tools, parameters and database"
   ]
  },
  {
   "cell_type": "code",
   "execution_count": 2,
   "metadata": {},
   "outputs": [],
   "source": [
    "def to_img(x):\n",
    "    val_max = x.abs().max(-1, keepdim=True)[0].max(-2, keepdim=True)[0].expand_as(x)\n",
    "    x += val_max\n",
    "    x /= 2 * val_max\n",
    "    x.clamp(0, 1)\n",
    "    return x\n",
    "\n",
    "def show(img):\n",
    "    npimg = img.numpy()\n",
    "    plt.imshow(np.transpose(npimg, (1,2,0)), interpolation='nearest')\n",
    "    plt.axis('off')\n",
    "    return plt"
   ]
  },
  {
   "cell_type": "code",
   "execution_count": 3,
   "metadata": {},
   "outputs": [],
   "source": [
    "data_path = '../DataSet/MNIST/'\n",
    "\n",
    "transform = Compose([ToTensor(),\n",
    "                    to_cuda(),\n",
    "                    whitening((28,28),f_0=0.6),\n",
    "                    LCN(kernel_size=3,sigma=0.5,rgb=False),\n",
    "                    z_score()])\n",
    "\n",
    "dataset = MNIST(data_path, transform=transform, train=False, download=False)\n",
    "\n",
    "DataBase =  DataLoader(dataset,batch_size=32,shuffle=True,drop_last=True)\n",
    "\n",
    "nb_image = 320"
   ]
  },
  {
   "cell_type": "markdown",
   "metadata": {},
   "source": [
    "## Fig 14 a) & c)"
   ]
  },
  {
   "cell_type": "code",
   "execution_count": 4,
   "metadata": {},
   "outputs": [],
   "source": [
    "model_name_list = ['Savings/MNIST/'+'MNIST_[0.20,0.30]_b=1.pkl']"
   ]
  },
  {
   "cell_type": "code",
   "execution_count": 5,
   "metadata": {},
   "outputs": [],
   "source": [
    "all_sparsity = torch.zeros(nb_image,len(model_name_list),2)\n",
    "all_activity = torch.zeros(len(model_name_list),2)\n",
    "all_histo = [None]*len(model_name_list)\n",
    "for idx_model, model_name in enumerate(model_name_list) : \n",
    "    k=0\n",
    "    with open(model_name, 'rb') as file:\n",
    "        out = pickle.load(file)\n",
    "    Net = out['Net']\n",
    "    Loss = out['Loss']\n",
    "    Pursuit = out['Pursuit']\n",
    "    histo = [0,0]\n",
    "    for idx_batch, data in enumerate(DataBase):\n",
    "        batch = data[0].cuda()\n",
    "        gamma, it, Loss_G, delta = Pursuit.coding(batch)\n",
    "\n",
    "        for i in range(Net.nb_layers):\n",
    "            nb_null = (gamma[i]!=0).float().view(gamma[i].size(0),-1).sum(-1)\n",
    "            volume = gamma[i].size(1)*gamma[i].size(2)*gamma[i].size(3)\n",
    "            all_sparsity[k:k+batch.size(0),idx_model,i] = (1-nb_null/volume)*100\n",
    "            freq = (gamma[i]!=0).view(batch.size(0),gamma[i].size(1),-1)\n",
    "            freq = freq.sum(-1).sum(0)\n",
    "            histo[i] += freq \n",
    "        k+=batch.size(0)\n",
    "        if k >= nb_image:\n",
    "            break\n",
    "\n",
    "    all_histo[idx_model] = histo\n",
    "\n",
    "Exp = {'model_name': model_name_list,\n",
    "        'sparsity' : all_sparsity,\n",
    "        'histo':all_histo}"
   ]
  },
  {
   "cell_type": "code",
   "execution_count": 6,
   "metadata": {},
   "outputs": [
    {
     "name": "stdout",
     "output_type": "stream",
     "text": [
      "Dico Layer 1 with feedback\n"
     ]
    },
    {
     "data": {
      "image/png": "[encoded data removed]",
      "text/plain": [
       "<Figure size 432x288 with 1 Axes>"
      ]
     },
     "metadata": {},
     "output_type": "display_data"
    },
    {
     "name": "stdout",
     "output_type": "stream",
     "text": [
      "Dico Layer 2 with feedback\n"
     ]
    },
    {
     "data": {
      "image/png": "[encoded data removed]",
      "text/plain": [
       "<Figure size 432x288 with 1 Axes>"
      ]
     },
     "metadata": {},
     "output_type": "display_data"
    }
   ],
   "source": [
    "save_fig = True\n",
    "all_histo = Exp['histo']\n",
    "with open(model_name_list[0], 'rb') as file:\n",
    "    out = pickle.load(file)\n",
    "Net = out['Net']\n",
    "    \n",
    "## FIRST LAYER DICTIONARIES\n",
    "idx_model=0\n",
    "idx_layer=0\n",
    "position = torch.arange(all_histo[idx_model][idx_layer].size(0))\n",
    "inter = all_histo[idx_model][idx_layer].float()/all_histo[idx_model][idx_layer].sum()\n",
    "\n",
    "fig = plt.figure()\n",
    "sorted_histo, arg_sorted = torch.sort(inter, descending=True)\n",
    "\n",
    "grid_param = {'padding':1, 'normalize':True, \n",
    "                        'pad_value':1, \n",
    "                        'nrow':32}\n",
    " \n",
    "img = make_grid(Net.layers[0].dico[arg_sorted,:,:,:],**grid_param)\n",
    "plot_L1 = show(img.cpu())\n",
    "if save_fig == True:\n",
    "    save_image(img,'Savings/Fig/Fig15/SD_MNIST_2LSPC_L1_sorted.pdf')\n",
    "\n",
    "print('Dico Layer 1 with feedback')\n",
    "plot_L1.show()\n",
    "    \n",
    "## SECOND LAYER DICTIONARIES\n",
    "idx_layer=1\n",
    "\n",
    "position = torch.arange(all_histo[idx_model][idx_layer].size(0))\n",
    "inter = all_histo[idx_model][idx_layer].float()/all_histo[idx_model][idx_layer].sum()\n",
    "\n",
    "sorted_histo, arg_sorted = torch.sort(inter, descending=True)\n",
    "\n",
    "fig = plt.figure()\n",
    "\n",
    "grid_param = {'padding':2, 'normalize':True, \n",
    "                        'pad_value':1, \n",
    "                        'nrow':16}\n",
    "img = make_grid(Net.project_dico(1)[arg_sorted],**grid_param)\n",
    "plot_L2 = show(img.cpu())\n",
    "\n",
    "if save_fig == True:\n",
    "    save_image(img,'Savings/Fig/Fig15/SD_MNIST_2LSPC_L2_sorted.pdf')\n",
    "print('Dico Layer 2 with feedback')\n",
    "plot_L2.show()"
   ]
  },
  {
   "cell_type": "markdown",
   "metadata": {},
   "source": [
    "## Fig 14 b) & d)"
   ]
  },
  {
   "cell_type": "code",
   "execution_count": 7,
   "metadata": {},
   "outputs": [],
   "source": [
    "model_name_list = ['Savings/MNIST/'+'MNIST_[0.20,0.30]_b=0.pkl']"
   ]
  },
  {
   "cell_type": "code",
   "execution_count": 8,
   "metadata": {},
   "outputs": [],
   "source": [
    "all_sparsity = torch.zeros(nb_image,len(model_name_list),2)\n",
    "all_activity = torch.zeros(len(model_name_list),2)\n",
    "all_histo = [None]*len(model_name_list)\n",
    "for idx_model, model_name in enumerate(model_name_list) : \n",
    "    k=0\n",
    "    with open(model_name, 'rb') as file:\n",
    "        out = pickle.load(file)\n",
    "    Net = out['Net']\n",
    "    Loss = out['Loss']\n",
    "    Pursuit = out['Pursuit']\n",
    "    histo = [0,0]\n",
    "\n",
    "    for idx_batch, data in enumerate(DataBase):\n",
    "        batch = data[0].cuda()\n",
    "        gamma, it, Loss_G, delta = Pursuit.coding(batch)\n",
    "\n",
    "        for i in range(Net.nb_layers):\n",
    "            nb_null = (gamma[i]!=0).float().view(gamma[i].size(0),-1).sum(-1)\n",
    "            volume = gamma[i].size(1)*gamma[i].size(2)*gamma[i].size(3)\n",
    "            all_sparsity[k:k+batch.size(0),idx_model,i] = (1-nb_null/volume)*100\n",
    "            freq = (gamma[i]!=0).view(batch.size(0),gamma[i].size(1),-1)\n",
    "            freq = freq.sum(-1).sum(0)\n",
    "            histo[i] += freq \n",
    "        k+=batch.size(0)\n",
    "        if k >= nb_image:\n",
    "            break\n",
    "\n",
    "    all_histo[idx_model] = histo\n",
    "\n",
    "Exp = {'model_name': model_name_list,\n",
    "        'sparsity' : all_sparsity,\n",
    "        'histo':all_histo}"
   ]
  },
  {
   "cell_type": "code",
   "execution_count": 9,
   "metadata": {},
   "outputs": [
    {
     "name": "stdout",
     "output_type": "stream",
     "text": [
      "Dico Layer 1 without feedback\n"
     ]
    },
    {
     "data": {
      "image/png": "[encoded data removed]",
      "text/plain": [
       "<Figure size 432x288 with 1 Axes>"
      ]
     },
     "metadata": {},
     "output_type": "display_data"
    },
    {
     "name": "stdout",
     "output_type": "stream",
     "text": [
      "Dico Layer 2 without feedback\n"
     ]
    },
    {
     "data": {
      "image/png": "[encoded data removed]",
      "text/plain": [
       "<Figure size 432x288 with 1 Axes>"
      ]
     },
     "metadata": {},
     "output_type": "display_data"
    }
   ],
   "source": [
    "save_fig = True\n",
    "all_histo = Exp['histo']\n",
    "\n",
    "with open(model_name_list[0], 'rb') as file:\n",
    "    out = pickle.load(file)\n",
    "Net = out['Net']\n",
    "    \n",
    "    \n",
    "## FIRST LAYER DICTIONARIES\n",
    "idx_model=0\n",
    "idx_layer=0\n",
    "position = torch.arange(all_histo[idx_model][idx_layer].size(0))\n",
    "inter = all_histo[idx_model][idx_layer].float()/all_histo[idx_model][idx_layer].sum()\n",
    "\n",
    "fig = plt.figure()\n",
    "sorted_histo, arg_sorted = torch.sort(inter, descending=True)\n",
    "\n",
    "grid_param = {'padding':1, 'normalize':True, \n",
    "                        'pad_value':1, \n",
    "                        'nrow':32}\n",
    "img = make_grid(Net.layers[0].dico[arg_sorted,:,:,:],**grid_param)\n",
    "plot_L1 = show(img.cpu())\n",
    "if save_fig == True:\n",
    "    save_image(img,'Savings/Fig/Fig15/SD_MNIST_HiLa_L1_sorted.pdf')\n",
    "\n",
    "print('Dico Layer 1 without feedback')\n",
    "plot_L1.show()\n",
    "    \n",
    "## SECOND LAYER DICTIONARIES\n",
    "idx_layer=1\n",
    "position = torch.arange(all_histo[idx_model][idx_layer].size(0))\n",
    "inter = all_histo[idx_model][idx_layer].float()/all_histo[idx_model][idx_layer].sum()\n",
    "\n",
    "sorted_histo, arg_sorted = torch.sort(inter, descending=True)\n",
    "\n",
    "fig = plt.figure()\n",
    "\n",
    "grid_param = {'padding':2, 'normalize':True, \n",
    "                        'pad_value':1, \n",
    "                        'nrow':16}\n",
    "img = make_grid(Net.project_dico(1)[arg_sorted],**grid_param)\n",
    "plot_L2 = show(img.cpu())\n",
    "\n",
    "if save_fig == True:\n",
    "    save_image(img,'Savings/Fig/Fig15/SD_MNIST_HiLa_L2_sorted.pdf')\n",
    "print('Dico Layer 2 without feedback')\n",
    "plot_L2.show()"
   ]
  },
  {
   "cell_type": "code",
   "execution_count": null,
   "metadata": {},
   "outputs": [],
   "source": []
  }
 ],
 "metadata": {
  "kernelspec": {
   "display_name": "Python 3",
   "language": "python",
   "name": "python3"
  },
  "language_info": {
   "codemirror_mode": {
    "name": "ipython",
    "version": 3
   },
   "file_extension": ".py",
   "mimetype": "text/x-python",
   "name": "python",
   "nbconvert_exporter": "python",
   "pygments_lexer": "ipython3",
   "version": "3.5.2"
  }
 },
 "nbformat": 4,
 "nbformat_minor": 2
}
